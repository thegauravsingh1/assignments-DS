{
 "cells": [
  {
   "cell_type": "markdown",
   "id": "60a29bd4",
   "metadata": {},
   "source": [
    "1)\n",
    "(*) - it is a expression\n",
    "\n",
    "('hello') - it is a string\n",
    "\n",
    "(-87.8) it is a value\n",
    "\n",
    "(-) it is a expression\n",
    "\n",
    "(/) it is a  expression\n",
    "\n",
    "(+) it is a expression\n",
    "\n",
    "(6) it is a value\n",
    "\n"
   ]
  },
  {
   "cell_type": "markdown",
   "id": "3e0c75cc",
   "metadata": {},
   "source": [
    "2)\n",
    "string is a data type in python which is represented by single or double qourts example \"ineuron\" ,'ineuron' this  bothe are example of sting\n",
    "\n",
    "\n",
    "variable are used to store data or the are the containers to store data for example a=20 here a is a variable\n"
   ]
  },
  {
   "cell_type": "markdown",
   "id": "efda9a86",
   "metadata": {},
   "source": [
    "3)\n",
    "expression are combinations  of operator and oprends for example 1+2 = 3 this is a expression where 1and2 are operends and \n",
    "(+) this sign is a operator which performs mathematical addition operation."
   ]
  },
  {
   "cell_type": "markdown",
   "id": "e42e7487",
   "metadata": {},
   "source": [
    "4)\n",
    "difference between assignment statment is assignment statement assigns value to a variable like spam = 10 here the equal to operator assigns value 10 to spam\n",
    "\n",
    "and expression performs certain operation on operands depending on the operator\n"
   ]
  },
  {
   "cell_type": "code",
   "execution_count": 2,
   "id": "8434aae9",
   "metadata": {},
   "outputs": [
    {
     "name": "stdout",
     "output_type": "stream",
     "text": [
      "20\n"
     ]
    }
   ],
   "source": [
    "bacon = 20 \n",
    "bacon+1\n",
    "print(bacon)"
   ]
  },
  {
   "cell_type": "code",
   "execution_count": 3,
   "id": "84aae86b",
   "metadata": {},
   "outputs": [
    {
     "data": {
      "text/plain": [
       "'spamspamspam'"
      ]
     },
     "execution_count": 3,
     "metadata": {},
     "output_type": "execute_result"
    }
   ],
   "source": [
    "'spam'+'spamspam'"
   ]
  },
  {
   "cell_type": "code",
   "execution_count": 5,
   "id": "2f7f8dee",
   "metadata": {},
   "outputs": [
    {
     "data": {
      "text/plain": [
       "'spamspamspam'"
      ]
     },
     "execution_count": 5,
     "metadata": {},
     "output_type": "execute_result"
    }
   ],
   "source": [
    "'spam'*3"
   ]
  },
  {
   "cell_type": "markdown",
   "id": "11e2e646",
   "metadata": {},
   "source": [
    "8) \n",
    "because a variable can consist of character number and underscore but can only start with underscore or a character"
   ]
  },
  {
   "cell_type": "markdown",
   "id": "2cb19cc7",
   "metadata": {},
   "source": [
    "9)\n",
    "int() ,float(), str() functions are used to get the integer floating point value or string version of a value"
   ]
  },
  {
   "cell_type": "markdown",
   "id": "3618198e",
   "metadata": {},
   "source": [
    "10) string and int cannot be concated\n",
    "to resolve it we should conver 99 into string"
   ]
  },
  {
   "cell_type": "code",
   "execution_count": 11,
   "id": "9b758e4f",
   "metadata": {},
   "outputs": [
    {
     "data": {
      "text/plain": [
       "'i have eaten99burritos'"
      ]
     },
     "execution_count": 11,
     "metadata": {},
     "output_type": "execute_result"
    }
   ],
   "source": [
    "'i have eaten'+ '99' + 'burritos'"
   ]
  },
  {
   "cell_type": "code",
   "execution_count": null,
   "id": "204ded59",
   "metadata": {},
   "outputs": [],
   "source": []
  }
 ],
 "metadata": {
  "kernelspec": {
   "display_name": "Python 3 (ipykernel)",
   "language": "python",
   "name": "python3"
  },
  "language_info": {
   "codemirror_mode": {
    "name": "ipython",
    "version": 3
   },
   "file_extension": ".py",
   "mimetype": "text/x-python",
   "name": "python",
   "nbconvert_exporter": "python",
   "pygments_lexer": "ipython3",
   "version": "3.9.7"
  }
 },
 "nbformat": 4,
 "nbformat_minor": 5
}
